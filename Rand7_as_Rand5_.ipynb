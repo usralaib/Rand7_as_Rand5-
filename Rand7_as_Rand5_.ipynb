{
  "cells": [
    {
      "cell_type": "code",
      "execution_count": null,
      "metadata": {
        "id": "teOi6xKVLy-4"
      },
      "outputs": [],
      "source": [
        "import random\n",
        "import matplotlib.pyplot as plt"
      ]
    },
    {
      "cell_type": "code",
      "source": [
        "def rand5():  \n",
        "  return random.randint(1,5) "
      ],
      "metadata": {
        "id": "tmrWpgelv6Pp"
      },
      "execution_count": null,
      "outputs": []
    },
    {
      "cell_type": "code",
      "execution_count": null,
      "metadata": {
        "id": "Mre6OuvLNOc8"
      },
      "outputs": [],
      "source": [
        "import random\n",
        "def rand7():\n",
        "  while True:\n",
        "    num = (rand5()-1) * 5 + rand5()-1\n",
        "    if num >= 21: continue\n",
        "    return (num%7)+1"
      ]
    },
    {
      "cell_type": "code",
      "execution_count": null,
      "metadata": {
        "colab": {
          "base_uri": "https://localhost:8080/"
        },
        "id": "q1KP1c2jVofT",
        "outputId": "6ec6ece1-eee0-4df4-8b82-eb88c31cafe4"
      },
      "outputs": [
        {
          "output_type": "execute_result",
          "data": {
            "text/plain": [
              "[142683, 142891, 142745, 142363, 142957, 142421, 143940]"
            ]
          },
          "metadata": {},
          "execution_count": 4
        }
      ],
      "source": [
        "counts = [0] * 7\n",
        "for i in range (1000000):\n",
        "  counts[rand7()-1] += 1\n",
        "counts"
      ]
    },
    {
      "cell_type": "code",
      "source": [
        "plt.plot( [1,2,3,4,5,6,7] ,counts)\n",
        "plt.xlabel('Possible Values ')\n",
        "plt.ylabel(\"Nbr d'occurence\")\n",
        "plt.ylim(130000, 150000)\n",
        "plt.show"
      ],
      "metadata": {
        "colab": {
          "base_uri": "https://localhost:8080/",
          "height": 300
        },
        "id": "OxxuiiLXtGjM",
        "outputId": "b387c4a0-6e33-4ccd-a304-c7ef5cdd988b"
      },
      "execution_count": null,
      "outputs": [
        {
          "output_type": "execute_result",
          "data": {
            "text/plain": [
              "<function matplotlib.pyplot.show(*args, **kw)>"
            ]
          },
          "metadata": {},
          "execution_count": 5
        },
        {
          "output_type": "display_data",
          "data": {
            "text/plain": [
              "<Figure size 432x288 with 1 Axes>"
            ],
            "image/png": "[encoded data removed]"
          },
          "metadata": {
            "needs_background": "light"
          }
        }
      ]
    },
    {
      "cell_type": "markdown",
      "metadata": {
        "id": "74pFnvSEAoDq"
      },
      "source": [
        "\n",
        "---\n",
        "\n",
        "The distribution of Rand8 values as a function of Rand5"
      ]
    },
    {
      "cell_type": "code",
      "source": [
        "import random\n",
        "import matplotlib.pyplot as plt"
      ],
      "metadata": {
        "id": "ynfK_oDCsqCq"
      },
      "execution_count": null,
      "outputs": []
    },
    {
      "cell_type": "code",
      "source": [
        "def rand5():  \n",
        "  return random.randint(1,5) "
      ],
      "metadata": {
        "id": "wEh1TYpOspKy"
      },
      "execution_count": null,
      "outputs": []
    },
    {
      "cell_type": "code",
      "source": [
        "import random\n",
        "def rand8():\n",
        "  while True:\n",
        "    num = (rand5()-1) * 5 + rand5()-1\n",
        "    if num >= 24: continue\n",
        "    return (num%8)+1"
      ],
      "metadata": {
        "id": "6NhVqrcw38JT"
      },
      "execution_count": null,
      "outputs": []
    },
    {
      "cell_type": "code",
      "source": [
        "counts = [0] * 8\n",
        "for i in range (1,1000000):\n",
        "  counts[rand8()-1] += 1\n",
        "counts"
      ],
      "metadata": {
        "colab": {
          "base_uri": "https://localhost:8080/"
        },
        "id": "WHZ-XmFf4BIE",
        "outputId": "fdf56523-fcc8-486f-c65f-938c8792ea4e"
      },
      "execution_count": null,
      "outputs": [
        {
          "output_type": "execute_result",
          "data": {
            "text/plain": [
              "[125146, 124632, 124801, 125310, 125308, 125365, 125029, 124408]"
            ]
          },
          "metadata": {},
          "execution_count": 9
        }
      ]
    },
    {
      "cell_type": "code",
      "source": [
        "plt.plot( [1,2,3,4,5,6,7,8] ,counts)\n",
        "plt.xlabel('Possible Values ')\n",
        "plt.ylabel(\"Nbr d'occurence\")\n",
        "plt.ylim(120000, 130000)\n",
        "plt.show"
      ],
      "metadata": {
        "colab": {
          "base_uri": "https://localhost:8080/",
          "height": 300
        },
        "id": "f7PqKCMT4BAR",
        "outputId": "871c0484-a11a-4cb3-8b0c-677441ad7ef7"
      },
      "execution_count": null,
      "outputs": [
        {
          "output_type": "execute_result",
          "data": {
            "text/plain": [
              "<function matplotlib.pyplot.show(*args, **kw)>"
            ]
          },
          "metadata": {},
          "execution_count": 10
        },
        {
          "output_type": "display_data",
          "data": {
            "text/plain": [
              "<Figure size 432x288 with 1 Axes>"
            ],
            "image/png": "[encoded data removed]"
          },
          "metadata": {
            "needs_background": "light"
          }
        }
      ]
    }
  ],
  "metadata": {
    "colab": {
      "provenance": []
    },
    "kernelspec": {
      "display_name": "Python 3",
      "name": "python3"
    },
    "language_info": {
      "name": "python"
    }
  },
  "nbformat": 4,
  "nbformat_minor": 0
}